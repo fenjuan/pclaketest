{
 "cells": [
  {
   "cell_type": "code",
   "execution_count": 135,
   "metadata": {
    "collapsed": false
   },
   "outputs": [],
   "source": [
    "import numpy as np\n",
    "import matplotlib.pyplot as plt\n",
    "from matplotlib.backends.backend_pdf import PdfPages\n",
    "import pandas as pd\n",
    "from pandas import DataFrame\n",
    "from pandas import Series\n",
    "from netCDF4 import Dataset\n",
    "from netCDF4 import num2date\n",
    "import datetime\n",
    "import os\n",
    "import sys\n",
    "import os.path\n",
    "import glob"
   ]
  },
  {
   "cell_type": "code",
   "execution_count": 136,
   "metadata": {
    "collapsed": false
   },
   "outputs": [],
   "source": [
    "# Reading in model output files, from three different applications, fabm0d, gotm1d and gotmlake\n",
    "output_dir= os.path.normpath(os.getcwd() + os.sep + os.pardir+\"/output\")\n",
    "# fabm0d files\n",
    "fabm0d=[]\n",
    "for f in glob.glob(\"*fabm0d*.nc\"):\n",
    "    fabm0d.append(f)\n",
    "# gotm1d files\n",
    "gotm1d=[]\n",
    "for f in glob.glob(\"*gotm1d*.nc\"):\n",
    "    gotm1d.append(f)\n",
    "# gotm-lake files\n",
    "gotmlake=[]\n",
    "for f in glob.glob(\"*gotmlake*.nc\"):\n",
    "    gotmlake.append(f)"
   ]
  },
  {
   "cell_type": "code",
   "execution_count": 137,
   "metadata": {
    "collapsed": false
   },
   "outputs": [],
   "source": [
    "# define the start of the time and the end of the time for plot range\n",
    "start=valid_times.index(datetime.datetime(2015, 1, 1, 0, 0))\n",
    "stop=valid_times.index(datetime.datetime(2016, 1, 1, 0, 0))\n"
   ]
  },
  {
   "cell_type": "code",
   "execution_count": 138,
   "metadata": {
    "collapsed": false
   },
   "outputs": [],
   "source": [
    "# Read in gotm1d data, get the vertical avarage value, and store in nc Dataset form\n",
    "# creat dict for store output of wanted fabm0d data\n",
    "df_fabm0d={}\n",
    "for f in fabm0d:\n",
    "    path=os.path.join(output_dir, f)\n",
    "    fabm0d_nc=Dataset(path, mode='r')\n",
    "    time        = fabm0d_nc.variables['time']\n",
    "    units       = fabm0d_nc.variables['time'].units\n",
    "    valid_times = num2date(time[:], units=units).tolist()\n",
    "    time=valid_times[start:stop]\n",
    "    # create empty lists for storging extracted and treated variables\n",
    "    temperature=[]\n",
    "    PAR=[]\n",
    "    Oxygen=[]\n",
    "    TP=[]\n",
    "    TN=[]\n",
    "    Phyto=[]\n",
    "    Zoo=[]\n",
    "    Fish=[] \n",
    "    Veg=[]\n",
    "    Ben=[]\n",
    "# loop over time and put the variable in lists\n",
    "    i=0\n",
    "    for t in time:\n",
    "        temperature.append(fabm0d_nc.variables['temp'][i,0,0])\n",
    "        Oxygen.append(fabm0d_nc.variables['abiotic_water_sO2W'][i,0,0])\n",
    "        TP.append(fabm0d_nc.variables['pclake_totP_calculator_result'][i,0,0])\n",
    "        TN.append(fabm0d_nc.variables['pclake_totN_calculator_result'][i,0,0])\n",
    "        Phyto.append(fabm0d_nc.variables['phytoplankton_water_aDPhytW'][i,0,0])\n",
    "        Zoo.append(fabm0d_nc.variables['foodweb_water_sDZoo'][i,0,0])\n",
    "        Fish.append(fabm0d_nc.variables['foodweb_water_sDFiAd'][i,0,0]+\n",
    "                    fabm0d_nc.variables['foodweb_water_sDFiJv'][i,0,0])\n",
    "        PAR.append(fabm0d_nc.variables['phytoplankton_water_partop'][i,0,0])\n",
    "        Veg.append(fabm0d_nc.variables['macrophytes_sDVeg'][i,0,0])\n",
    "        Ben.append(fabm0d_nc.variables['foodweb_sediment_sDBent'][i,0,0])\n",
    "        i=i+1\n",
    "# put list into pandas dataframe format\n",
    "    temp=DataFrame(temperature,index=time,columns=['temp'],)\n",
    "    PAR=DataFrame(PAR,index=time,columns=['PAR'])\n",
    "    O2=DataFrame(Oxygen,index=time,columns=['O2'])\n",
    "    totP=DataFrame(TP,index=time,columns=['totP'])\n",
    "    totN=DataFrame(TN,index=time,columns=['totN'])\n",
    "    aDPhytW=DataFrame(Phyto,index=time,columns=['aDPhytW'])\n",
    "    sDZoo=DataFrame(Zoo,index=time,columns=['sDZoo'])\n",
    "    aDFish=DataFrame(Fish,index=time,columns=['aDFish'])\n",
    "    sDVeg=DataFrame(Veg,index=time,columns=['sDVeg'])\n",
    "    sDBent=DataFrame(Ben,index=time,columns=['sDBent'])   \n",
    "# put data into dict for future usage\n",
    "    df_fabm0d[f]=pd.concat([temp,PAR,O2,totP,totN,aDPhytW,sDZoo,aDFish,sDVeg,sDBent],axis=1)\n",
    "    "
   ]
  },
  {
   "cell_type": "code",
   "execution_count": 144,
   "metadata": {
    "collapsed": false,
    "scrolled": true
   },
   "outputs": [],
   "source": [
    "# Read in gotm1d data, get the vertical avarage value, and store in nc Dataset form\n",
    "# creat dict for store output of wanted GOTM1D data\n",
    "df_gotm1d={}\n",
    "# Loop over gotm1d files and get the netcdf dataa\n",
    "for f in gotm1d:\n",
    "    path=os.path.join(output_dir, f)\n",
    "    gotm1d_nc=Dataset(path, mode='r')\n",
    "    time        = gotm1d_nc.variables['time']\n",
    "    units       = gotm1d_nc.variables['time'].units\n",
    "    valid_times = num2date(time[:], units=units).tolist()\n",
    "    time=valid_times[start:stop]\n",
    "# create empty lists for storging extracted and treated variables\n",
    "    temperature=[]\n",
    "    PAR=[]\n",
    "    Oxygen=[]\n",
    "    TP=[]\n",
    "    TN=[]\n",
    "    Phyto=[]\n",
    "    Zoo=[]\n",
    "    Fish=[] \n",
    "    Veg=[]\n",
    "    Ben=[]\n",
    "# loop over time and put the variable in lists\n",
    "    i=0\n",
    "    for t in time:\n",
    "        temperature.append(np.mean(gotm1d_nc.variables['temp'][i,:,0,0]))\n",
    "        Oxygen.append(np.mean(gotm1d_nc.variables['abiotic_water_sO2W'][i,:,0,0]))\n",
    "        TP.append(np.mean(gotm1d_nc.variables['pclake_totP_calculator_result'][i,:,0,0]))\n",
    "        TN.append(np.mean(gotm1d_nc.variables['pclake_totN_calculator_result'][i,:,0,0]))\n",
    "        Phyto.append(np.mean(gotm1d_nc.variables['phytoplankton_water_aDPhytW'][i,:,0,0]))\n",
    "        Zoo.append(np.mean(gotm1d_nc.variables['foodweb_water_sDZoo'][i,:,0,0]))\n",
    "        Fish.append(np.mean(gotm1d_nc.variables['foodweb_water_sDFiAd'][i,:,0,0])+\n",
    "                    np.mean(gotm1d_nc.variables['foodweb_water_sDFiJv'][i,:,0,0]))\n",
    "        PAR.append(gotm1d_nc.variables['phytoplankton_water_partop'][i,-1,0,0])\n",
    "        Veg.append(gotm1d_nc.variables['macrophytes_sDVeg'][i,0,0])\n",
    "        Ben.append(gotm1d_nc.variables['foodweb_sediment_sDBent'][i,0,0])\n",
    "        i=i+1\n",
    "# put list into pandas dataframe format\n",
    "    temp=DataFrame(temperature,index=time,columns=['temp'],)\n",
    "    PAR=DataFrame(PAR,index=time,columns=['PAR'])\n",
    "    O2=DataFrame(Oxygen,index=time,columns=['O2'])\n",
    "    totP=DataFrame(TP,index=time,columns=['totP'])\n",
    "    totN=DataFrame(TN,index=time,columns=['totN'])\n",
    "    aDPhytW=DataFrame(Phyto,index=time,columns=['aDPhytW'])\n",
    "    sDZoo=DataFrame(Zoo,index=time,columns=['sDZoo'])\n",
    "    aDFish=DataFrame(Fish,index=time,columns=['aDFish'])\n",
    "    sDVeg=DataFrame(Veg,index=time,columns=['sDVeg'])\n",
    "    sDBent=DataFrame(Ben,index=time,columns=['sDBent'])\n",
    "# put data into dict for future usage\n",
    "    df_gotm1d[f]=pd.concat([temp,PAR,O2,totP,totN,aDPhytW,sDZoo,aDFish,sDVeg,sDBent],axis=1)\n"
   ]
  },
  {
   "cell_type": "code",
   "execution_count": 145,
   "metadata": {
    "collapsed": false,
    "scrolled": true
   },
   "outputs": [],
   "source": [
    "# Read in gotm1d data, store in nc Dataset form\n",
    "# Read in gotm1d_2m\n",
    "# Create empty dict for storing output of wanted gotmlake data\n",
    "df_gotmlake={}\n",
    "# Get the volumn fraction for each depth in gotmlake\n",
    "# calculated according to hypsograph data in excel.\n",
    "f_Vn_2m=[0.04,0.12,0.20,0.28,0.36]\n",
    "f_Vn_5m=[0.01,0.02,0.03,0.04,0.05,0.07,0.08,0.09,0.10,0.11,0.12,0.13,0.15]\n",
    "f_Vn_10m=[0.0025,0.0056,0.0087,0.0119,0.0150,0.0181,0.0212,0.0244,0.0275,\n",
    "          0.0306,0.0337,0.0369,0.0400,0.0431,0.0463,0.0494,0.0525,0.0556,\n",
    "          0.0588,0.0619,0.0650,0.0681,0.0713,0.0744,0.0775]\n",
    "f_Vn_20m=[0.000854443,0.001635895,0.002417346,0.003198797,0.003980249,0.0047617,\n",
    "          0.005543151,0.006324602,0.007106054,0.007887505,0.008668956,0.009450408,\n",
    "          0.010231859,0.01101331,0.011794761,0.012576213,0.013357664,0.014139115,\n",
    "          0.014920567,0.015702018,0.016483469,0.01726492,0.018046372,0.018827823,\n",
    "          0.019609274,0.020390726,0.021172177,0.021953628,0.02273508,0.023516531,\n",
    "          0.024297982,0.025079433,0.025860885,0.026642336,0.027423787,0.028205239,\n",
    "          0.02898669,0.029768141,0.030549592,0.031331044,0.032112495,0.032893946,\n",
    "          0.033675398,0.034456849,0.0352383,0.036019751,0.036801203,0.037582654,\n",
    "          0.038364105,0.039145557]\n",
    "# Loop over gotmlake files and get the netcdf data\n",
    "for f in gotmlake:\n",
    "    path=os.path.join(output_dir, f)\n",
    "    gotmlake_nc=Dataset(path, mode='r')\n",
    "    time        = gotmlake_nc.variables['time']\n",
    "    units       = gotmlake_nc.variables['time'].units\n",
    "    valid_times = num2date(time[:], units=units).tolist()\n",
    "    time=valid_times[start:stop]\n",
    "# Get the f_lvl for different depth\n",
    "    lvl=len(gotmlake_nc.variables['temp'][0])\n",
    "    if lvl==5:\n",
    "        f_lvl=f_Vn_2m\n",
    "    elif lvl== 13:\n",
    "        f_lvl=f_Vn_5m\n",
    "    elif lvl==25:\n",
    "        f_lvl=f_Vn_10m\n",
    "    elif lvl==50:\n",
    "        f_lvl=f_Vn_20m\n",
    "    else:\n",
    "        print \"I can't find f_lvl\"      \n",
    "# create empty lists for storging extracted and treated variables\n",
    "    temperature=[]\n",
    "    PAR=[]\n",
    "    Oxygen=[]\n",
    "    TP=[]\n",
    "    TN=[]\n",
    "    Phyto=[]\n",
    "    Zoo=[]\n",
    "    Fish=[] \n",
    "    Veg=[]\n",
    "    Ben=[]\n",
    "# Loop over time, treat the data and put variables in lists\n",
    "    i=0\n",
    "    for t in time:      \n",
    "# get the volume average data from gotmlake\n",
    "        temperature.append(np.sum(gotmlake_nc.variables['temp'][i,:,0,0]*f_lvl[:]))\n",
    "        Oxygen.append(np.sum(gotmlake_nc.variables['abiotic_water_sO2W'][i,:,0,0]*f_lvl[:]))\n",
    "        TP.append(np.sum(gotmlake_nc.variables['pclake_totP_calculator_result'][i,:,0,0]*f_lvl[:]))\n",
    "        TN.append(np.sum(gotmlake_nc.variables['pclake_totN_calculator_result'][i,:,0,0]*f_lvl[:]))\n",
    "        Phyto.append(np.sum(gotmlake_nc.variables['phytoplankton_water_aDPhytW'][i,:,0,0]*f_lvl[:]))\n",
    "        Zoo.append(np.sum(gotmlake_nc.variables['foodweb_water_sDZoo'][i,:,0,0]*f_lvl[:]))\n",
    "        Fish.append(np.sum(gotmlake_nc.variables['foodweb_water_sDFiAd'][i,:,0,0]*f_lvl[:])+\n",
    "                           np.sum(gotmlake_nc.variables['foodweb_water_sDFiJv'][i,:,0,0]*f_lvl[:]))\n",
    "# PAR is stil the top layer data\n",
    "        PAR.append(gotmlake_nc.variables['phytoplankton_water_partop'][i,-1,0,0])\n",
    "# Get gotmlake sediment data, now it's 1D for state variables\n",
    "        Veg.append(np.mean(gotmlake_nc.variables['macrophytes_sDVeg'][i,:,0,0]))\n",
    "        Ben.append(np.mean(gotmlake_nc.variables['foodweb_sediment_sDBent'][i,:,0,0]))\n",
    "        i=i+1\n",
    "# Convert data into pandas dataframework\n",
    "    temp=DataFrame(temperature,index=time,columns=['temp'],)\n",
    "    PAR=DataFrame(PAR,index=time,columns=['PAR'])\n",
    "    O2=DataFrame(Oxygen,index=time,columns=['O2'])\n",
    "    totP=DataFrame(TP,index=time,columns=['totP'])\n",
    "    totN=DataFrame(TN,index=time,columns=['totN'])\n",
    "    aDPhytW=DataFrame(Phyto,index=time,columns=['aDPhytW'])\n",
    "    sDZoo=DataFrame(Zoo,index=time,columns=['sDZoo'])\n",
    "    aDFish=DataFrame(Fish,index=time,columns=['aDFish'])\n",
    "    sDVeg=DataFrame(Veg,index=time,columns=['sDVeg'])\n",
    "    sDBent=DataFrame(Ben,index=time,columns=['sDBent'])\n",
    "# Store gotmlake data into dict for future usage\n",
    "    df_gotmlake[f]=pd.concat([temp,PAR,O2,totP,totN,aDPhytW,sDZoo,aDFish,sDVeg,sDBent],axis=1)"
   ]
  },
  {
   "cell_type": "code",
   "execution_count": 146,
   "metadata": {
    "collapsed": false
   },
   "outputs": [],
   "source": [
    "# join dataframe according to depths\n",
    "df_2m= pd.concat([df_fabm0d['pclake-fabm0d-2m.nc'],df_gotm1d['pclake-gotm1d-2m.nc'],\n",
    "                  df_gotmlake['pclake-gotmlake-2m.nc']],axis=1,keys=['fabm0d', 'gotm1d', 'gotmlake'])\n",
    "df_5m= pd.concat([df_fabm0d['pclake-fabm0d-5m.nc'],df_gotm1d['pclake-gotm1d-5m.nc'],\n",
    "                  df_gotmlake['pclake-gotmlake-5m.nc']],axis=1,keys=['fabm0d', 'gotm1d', 'gotmlake'])\n",
    "df_10m= pd.concat([df_fabm0d['pclake-fabm0d-10m.nc'],df_gotm1d['pclake-gotm1d-10m.nc'],\n",
    "                   df_gotmlake['pclake-gotmlake-10m.nc']],axis=1,keys=['fabm0d', 'gotm1d', 'gotmlake'])\n",
    "df_20m= pd.concat([df_fabm0d['pclake-fabm0d-20m.nc'],df_gotm1d['pclake-gotm1d-20m.nc'],\n",
    "                   df_gotmlake['pclake-gotmlake-20m.nc']],axis=1,keys=['fabm0d', 'gotm1d', 'gotmlake'])\n",
    "# Joined all data together for plot\n",
    "results= pd.concat([df_2m,df_5m,df_10m,df_20m],axis=1,keys=['2m','5m','10m','20m'])"
   ]
  },
  {
   "cell_type": "code",
   "execution_count": 147,
   "metadata": {
    "collapsed": false,
    "scrolled": true
   },
   "outputs": [],
   "source": [
    "models =list(set(list(df_2m.columns.get_level_values(0))))\n",
    "#variables=list(set(list(df_2m.columns.get_level_values(1))))\n",
    "variables = ['temp', 'totN', 'totP',  'O2']\n",
    "for var in variables:\n",
    "    for model in models:\n",
    "#        plt.plot(df_2m.index,df_2m[model][var],label= model)\n",
    "        i=i+1\n",
    "\n",
    "#print models\n",
    "#print variables\n",
    "# plt.plot(df_2m.index,df_2m[model][var],label= model)\n",
    "#plt.show()\n",
    "#df_2m[model][var]"
   ]
  },
  {
   "cell_type": "code",
   "execution_count": 73,
   "metadata": {
    "collapsed": false
   },
   "outputs": [],
   "source": [
    "variables = ['temp',  'totP',  'O2']\n",
    "# experiment with plot\n",
    "fig = plt.figure(figsize=(8.27, 11.69), dpi=100)\n",
    "fig, axs = plt.subplots(nrows=1, ncols=3, figsize=(8.27, 11.69))\n",
    "i=0\n",
    "for var in variables:\n",
    "    axs[i].plot(time,df_2m['fabm0d'][var])\n",
    "    i=i+1\n",
    "#    print df_2m['fabm0d'][variables[i]]\n",
    "fig.show()"
   ]
  },
  {
   "cell_type": "code",
   "execution_count": 148,
   "metadata": {
    "collapsed": false,
    "scrolled": false
   },
   "outputs": [],
   "source": [
    "# Make the export pdf file\n",
    "fig_pdf='fig1.pdf'\n",
    "pdf_Output = os.path.join(output_dir,fig_pdf)\n",
    "# Get the index in the DataFrame for iteration\n",
    "# Get multi-index for 2m\n",
    "#\n",
    "with PdfPages(pdf_Output) as pdf:\n",
    "\n",
    "#    models =list(df_2m.columns.get_level_values(0))\n",
    "#    variables=list(df_2m.columns.get_level_values(1))\n",
    "    fig = plt.figure(figsize=(8.27, 11.69), dpi=100)\n",
    " \n",
    "            \n",
    "    models=['fabm0d','gotm1d','gotmlake']\n",
    "    variables = ['temp', 'totN', 'totP',  'O2']\n",
    "    nplots = len(variables)\n",
    "    fig, axs = plt.subplots(nrows=1, ncols=nplots, figsize=(8.27, 11.69))  #sharex=True,\n",
    "    plt.subplots_adjust(hspace = .1)\n",
    "\n",
    "#       variables = ['totp', 'pho4', 'totn', 'nitr', 'ammo', 'chla', 'temp', 'o2']\n",
    "\n",
    "    for i in range(len(variables)):\n",
    "        \n",
    "        #pos = ax.get_position()\n",
    "        #x = pos.x0 + 0.7\n",
    "        #y = pos.y0 + 0.06\n",
    "        for var in variables:\n",
    "            axs[i].plot(time,df_5m['fabm0d'][var],label= 'fabm0d', color='black')\n",
    "            axs[i].plot(time,df_5m['gotm1d'][var], label='gotm1d', color='grey')\n",
    "            axs[i].plot(time,df_5m['gotmlake'][var], label='gotmlake', color='grey')\n",
    "            #        axs[i].plot(df_2m.index, df_2m['fabm0d']['temp'], label='fabm0d', color='black')\n",
    "#        axs[i].axvspan(*mdates.datestr2num(['01/01/2003', '12/31/2013']), color='red', alpha=0.5)\n",
    "#        axs[i].axvspan(*mdates.datestr2num(['01/01/1989', '12/31/1993']), color='grey', alpha=0.5)\n",
    "#        axs[i].plot(result['time_x'], result['%s' %(variables[i])+'_y'], label='Obs',    marker='o',\n",
    "#                                                                                        color='grey',\n",
    "#                                                                                        markersize=2 )\n",
    "#        Label = axs[i].set_ylabel(\"var =\" '%s' %(variables[i]), **axis_font)\n",
    "#        plt.xticks(rotation=90)\n",
    "#        axs[i].xaxis.set_major_locator(mdates.YearLocator())\n",
    "#        axs[i].xaxis.set_major_formatter(mdates.DateFormatter('%Y'))\n",
    "        #axs[i].xaxis.set_minor_locator(mdates.MonthLocator())\n",
    "\n",
    "        #plt.legend(frameon=False, loc='upper center', bbox_to_anchor=(0.5, -0.05), numpoints=1)\n",
    "\n",
    "        #plt.tight_layout(pad=2, w_pad=2, h_pad=1)\n",
    "        \n",
    "#        plt.show()\n",
    "\n",
    "\n",
    "    pdf.savefig()  # saves the current figure into a pdf page\n",
    "    plt.close()\n",
    "\n",
    "    "
   ]
  },
  {
   "cell_type": "code",
   "execution_count": 33,
   "metadata": {
    "collapsed": false
   },
   "outputs": [
    {
     "name": "stdout",
     "output_type": "stream",
     "text": [
      "temp\n"
     ]
    },
    {
     "ename": "KeyError",
     "evalue": "'temp'",
     "output_type": "error",
     "traceback": [
      "\u001b[1;31m---------------------------------------------------------------------------\u001b[0m",
      "\u001b[1;31mKeyError\u001b[0m                                  Traceback (most recent call last)",
      "\u001b[1;32m<ipython-input-33-4a4775ac7d97>\u001b[0m in \u001b[0;36m<module>\u001b[1;34m()\u001b[0m\n\u001b[0;32m      8\u001b[0m     \u001b[0mj\u001b[0m\u001b[1;33m=\u001b[0m\u001b[0mj\u001b[0m\u001b[1;33m+\u001b[0m\u001b[1;36m1\u001b[0m\u001b[1;33m\u001b[0m\u001b[0m\n\u001b[0;32m      9\u001b[0m \u001b[1;32mprint\u001b[0m \u001b[0mvariables\u001b[0m\u001b[1;33m[\u001b[0m\u001b[1;36m0\u001b[0m\u001b[1;33m]\u001b[0m\u001b[1;33m\u001b[0m\u001b[0m\n\u001b[1;32m---> 10\u001b[1;33m \u001b[0mdf_2m\u001b[0m\u001b[1;33m[\u001b[0m\u001b[0mmodels\u001b[0m\u001b[1;33m]\u001b[0m\u001b[1;33m[\u001b[0m\u001b[1;34m'temp'\u001b[0m\u001b[1;33m]\u001b[0m\u001b[1;33m\u001b[0m\u001b[0m\n\u001b[0m",
      "\u001b[1;32m/usr/local/lib/python2.7/dist-packages/pandas/core/frame.pyc\u001b[0m in \u001b[0;36m__getitem__\u001b[1;34m(self, key)\u001b[0m\n\u001b[0;32m   1965\u001b[0m             \u001b[1;32mreturn\u001b[0m \u001b[0mself\u001b[0m\u001b[1;33m.\u001b[0m\u001b[0m_getitem_frame\u001b[0m\u001b[1;33m(\u001b[0m\u001b[0mkey\u001b[0m\u001b[1;33m)\u001b[0m\u001b[1;33m\u001b[0m\u001b[0m\n\u001b[0;32m   1966\u001b[0m         \u001b[1;32melif\u001b[0m \u001b[0mis_mi_columns\u001b[0m\u001b[1;33m:\u001b[0m\u001b[1;33m\u001b[0m\u001b[0m\n\u001b[1;32m-> 1967\u001b[1;33m             \u001b[1;32mreturn\u001b[0m \u001b[0mself\u001b[0m\u001b[1;33m.\u001b[0m\u001b[0m_getitem_multilevel\u001b[0m\u001b[1;33m(\u001b[0m\u001b[0mkey\u001b[0m\u001b[1;33m)\u001b[0m\u001b[1;33m\u001b[0m\u001b[0m\n\u001b[0m\u001b[0;32m   1968\u001b[0m         \u001b[1;32melse\u001b[0m\u001b[1;33m:\u001b[0m\u001b[1;33m\u001b[0m\u001b[0m\n\u001b[0;32m   1969\u001b[0m             \u001b[1;32mreturn\u001b[0m \u001b[0mself\u001b[0m\u001b[1;33m.\u001b[0m\u001b[0m_getitem_column\u001b[0m\u001b[1;33m(\u001b[0m\u001b[0mkey\u001b[0m\u001b[1;33m)\u001b[0m\u001b[1;33m\u001b[0m\u001b[0m\n",
      "\u001b[1;32m/usr/local/lib/python2.7/dist-packages/pandas/core/frame.pyc\u001b[0m in \u001b[0;36m_getitem_multilevel\u001b[1;34m(self, key)\u001b[0m\n\u001b[0;32m   2009\u001b[0m \u001b[1;33m\u001b[0m\u001b[0m\n\u001b[0;32m   2010\u001b[0m     \u001b[1;32mdef\u001b[0m \u001b[0m_getitem_multilevel\u001b[0m\u001b[1;33m(\u001b[0m\u001b[0mself\u001b[0m\u001b[1;33m,\u001b[0m \u001b[0mkey\u001b[0m\u001b[1;33m)\u001b[0m\u001b[1;33m:\u001b[0m\u001b[1;33m\u001b[0m\u001b[0m\n\u001b[1;32m-> 2011\u001b[1;33m         \u001b[0mloc\u001b[0m \u001b[1;33m=\u001b[0m \u001b[0mself\u001b[0m\u001b[1;33m.\u001b[0m\u001b[0mcolumns\u001b[0m\u001b[1;33m.\u001b[0m\u001b[0mget_loc\u001b[0m\u001b[1;33m(\u001b[0m\u001b[0mkey\u001b[0m\u001b[1;33m)\u001b[0m\u001b[1;33m\u001b[0m\u001b[0m\n\u001b[0m\u001b[0;32m   2012\u001b[0m         \u001b[1;32mif\u001b[0m \u001b[0misinstance\u001b[0m\u001b[1;33m(\u001b[0m\u001b[0mloc\u001b[0m\u001b[1;33m,\u001b[0m \u001b[1;33m(\u001b[0m\u001b[0mslice\u001b[0m\u001b[1;33m,\u001b[0m \u001b[0mSeries\u001b[0m\u001b[1;33m,\u001b[0m \u001b[0mnp\u001b[0m\u001b[1;33m.\u001b[0m\u001b[0mndarray\u001b[0m\u001b[1;33m,\u001b[0m \u001b[0mIndex\u001b[0m\u001b[1;33m)\u001b[0m\u001b[1;33m)\u001b[0m\u001b[1;33m:\u001b[0m\u001b[1;33m\u001b[0m\u001b[0m\n\u001b[0;32m   2013\u001b[0m             \u001b[0mnew_columns\u001b[0m \u001b[1;33m=\u001b[0m \u001b[0mself\u001b[0m\u001b[1;33m.\u001b[0m\u001b[0mcolumns\u001b[0m\u001b[1;33m[\u001b[0m\u001b[0mloc\u001b[0m\u001b[1;33m]\u001b[0m\u001b[1;33m\u001b[0m\u001b[0m\n",
      "\u001b[1;32m/usr/local/lib/python2.7/dist-packages/pandas/core/index.pyc\u001b[0m in \u001b[0;36mget_loc\u001b[1;34m(self, key, method)\u001b[0m\n\u001b[0;32m   5406\u001b[0m \u001b[1;33m\u001b[0m\u001b[0m\n\u001b[0;32m   5407\u001b[0m         \u001b[1;32mif\u001b[0m \u001b[1;32mnot\u001b[0m \u001b[0misinstance\u001b[0m\u001b[1;33m(\u001b[0m\u001b[0mkey\u001b[0m\u001b[1;33m,\u001b[0m \u001b[0mtuple\u001b[0m\u001b[1;33m)\u001b[0m\u001b[1;33m:\u001b[0m\u001b[1;33m\u001b[0m\u001b[0m\n\u001b[1;32m-> 5408\u001b[1;33m             \u001b[0mloc\u001b[0m \u001b[1;33m=\u001b[0m \u001b[0mself\u001b[0m\u001b[1;33m.\u001b[0m\u001b[0m_get_level_indexer\u001b[0m\u001b[1;33m(\u001b[0m\u001b[0mkey\u001b[0m\u001b[1;33m,\u001b[0m \u001b[0mlevel\u001b[0m\u001b[1;33m=\u001b[0m\u001b[1;36m0\u001b[0m\u001b[1;33m)\u001b[0m\u001b[1;33m\u001b[0m\u001b[0m\n\u001b[0m\u001b[0;32m   5409\u001b[0m             \u001b[1;32mreturn\u001b[0m \u001b[0m_maybe_to_slice\u001b[0m\u001b[1;33m(\u001b[0m\u001b[0mloc\u001b[0m\u001b[1;33m)\u001b[0m\u001b[1;33m\u001b[0m\u001b[0m\n\u001b[0;32m   5410\u001b[0m \u001b[1;33m\u001b[0m\u001b[0m\n",
      "\u001b[1;32m/usr/local/lib/python2.7/dist-packages/pandas/core/index.pyc\u001b[0m in \u001b[0;36m_get_level_indexer\u001b[1;34m(self, key, level, indexer)\u001b[0m\n\u001b[0;32m   5665\u001b[0m         \u001b[1;32melse\u001b[0m\u001b[1;33m:\u001b[0m\u001b[1;33m\u001b[0m\u001b[0m\n\u001b[0;32m   5666\u001b[0m \u001b[1;33m\u001b[0m\u001b[0m\n\u001b[1;32m-> 5667\u001b[1;33m             \u001b[0mloc\u001b[0m \u001b[1;33m=\u001b[0m \u001b[0mlevel_index\u001b[0m\u001b[1;33m.\u001b[0m\u001b[0mget_loc\u001b[0m\u001b[1;33m(\u001b[0m\u001b[0mkey\u001b[0m\u001b[1;33m)\u001b[0m\u001b[1;33m\u001b[0m\u001b[0m\n\u001b[0m\u001b[0;32m   5668\u001b[0m             \u001b[1;32mif\u001b[0m \u001b[0mlevel\u001b[0m \u001b[1;33m>\u001b[0m \u001b[1;36m0\u001b[0m \u001b[1;32mor\u001b[0m \u001b[0mself\u001b[0m\u001b[1;33m.\u001b[0m\u001b[0mlexsort_depth\u001b[0m \u001b[1;33m==\u001b[0m \u001b[1;36m0\u001b[0m\u001b[1;33m:\u001b[0m\u001b[1;33m\u001b[0m\u001b[0m\n\u001b[0;32m   5669\u001b[0m                 \u001b[1;32mreturn\u001b[0m \u001b[0mnp\u001b[0m\u001b[1;33m.\u001b[0m\u001b[0marray\u001b[0m\u001b[1;33m(\u001b[0m\u001b[0mlabels\u001b[0m \u001b[1;33m==\u001b[0m \u001b[0mloc\u001b[0m\u001b[1;33m,\u001b[0m\u001b[0mdtype\u001b[0m\u001b[1;33m=\u001b[0m\u001b[0mbool\u001b[0m\u001b[1;33m)\u001b[0m\u001b[1;33m\u001b[0m\u001b[0m\n",
      "\u001b[1;32m/usr/local/lib/python2.7/dist-packages/pandas/core/index.pyc\u001b[0m in \u001b[0;36mget_loc\u001b[1;34m(self, key, method, tolerance)\u001b[0m\n\u001b[0;32m   1757\u001b[0m                                  'backfill or nearest lookups')\n\u001b[0;32m   1758\u001b[0m             \u001b[0mkey\u001b[0m \u001b[1;33m=\u001b[0m \u001b[0m_values_from_object\u001b[0m\u001b[1;33m(\u001b[0m\u001b[0mkey\u001b[0m\u001b[1;33m)\u001b[0m\u001b[1;33m\u001b[0m\u001b[0m\n\u001b[1;32m-> 1759\u001b[1;33m             \u001b[1;32mreturn\u001b[0m \u001b[0mself\u001b[0m\u001b[1;33m.\u001b[0m\u001b[0m_engine\u001b[0m\u001b[1;33m.\u001b[0m\u001b[0mget_loc\u001b[0m\u001b[1;33m(\u001b[0m\u001b[0mkey\u001b[0m\u001b[1;33m)\u001b[0m\u001b[1;33m\u001b[0m\u001b[0m\n\u001b[0m\u001b[0;32m   1760\u001b[0m \u001b[1;33m\u001b[0m\u001b[0m\n\u001b[0;32m   1761\u001b[0m         indexer = self.get_indexer([key], method=method,\n",
      "\u001b[1;32mpandas/index.pyx\u001b[0m in \u001b[0;36mpandas.index.IndexEngine.get_loc (pandas/index.c:3979)\u001b[1;34m()\u001b[0m\n",
      "\u001b[1;32mpandas/index.pyx\u001b[0m in \u001b[0;36mpandas.index.IndexEngine.get_loc (pandas/index.c:3843)\u001b[1;34m()\u001b[0m\n",
      "\u001b[1;32mpandas/hashtable.pyx\u001b[0m in \u001b[0;36mpandas.hashtable.PyObjectHashTable.get_item (pandas/hashtable.c:12265)\u001b[1;34m()\u001b[0m\n",
      "\u001b[1;32mpandas/hashtable.pyx\u001b[0m in \u001b[0;36mpandas.hashtable.PyObjectHashTable.get_item (pandas/hashtable.c:12216)\u001b[1;34m()\u001b[0m\n",
      "\u001b[1;31mKeyError\u001b[0m: 'temp'"
     ]
    }
   ],
   "source": [
    "variables=['temp','O2','totN','totP']\n",
    "models=['fabm0d']\n",
    "j=0\n",
    "for var in variables:\n",
    "#    print variables[j]\n",
    "#    print df_2m[models][variables]\n",
    "#    print variable\n",
    "    j=j+1\n",
    "print variables[0]\n",
    "df_2m[models]['temp']\n"
   ]
  },
  {
   "cell_type": "code",
   "execution_count": 23,
   "metadata": {
    "collapsed": false,
    "scrolled": true
   },
   "outputs": [
    {
     "ename": "AttributeError",
     "evalue": "'Figure' object has no attribute 'plot'",
     "output_type": "error",
     "traceback": [
      "\u001b[1;31m---------------------------------------------------------------------------\u001b[0m",
      "\u001b[1;31mAttributeError\u001b[0m                            Traceback (most recent call last)",
      "\u001b[1;32m<ipython-input-23-b7c3f4e38910>\u001b[0m in \u001b[0;36m<module>\u001b[1;34m()\u001b[0m\n\u001b[0;32m      5\u001b[0m \u001b[0mplt\u001b[0m\u001b[1;33m.\u001b[0m\u001b[0msubplots_adjust\u001b[0m\u001b[1;33m(\u001b[0m\u001b[0mhspace\u001b[0m\u001b[1;33m=\u001b[0m\u001b[1;36m0\u001b[0m\u001b[1;33m)\u001b[0m\u001b[1;33m\u001b[0m\u001b[0m\n\u001b[0;32m      6\u001b[0m \u001b[1;32mfor\u001b[0m \u001b[0mi\u001b[0m \u001b[1;32min\u001b[0m \u001b[0mrange\u001b[0m\u001b[1;33m(\u001b[0m\u001b[1;36m16\u001b[0m\u001b[1;33m)\u001b[0m\u001b[1;33m:\u001b[0m\u001b[1;33m\u001b[0m\u001b[0m\n\u001b[1;32m----> 7\u001b[1;33m     \u001b[0mfig\u001b[0m\u001b[1;33m[\u001b[0m\u001b[0mi\u001b[0m\u001b[1;33m]\u001b[0m\u001b[1;33m.\u001b[0m\u001b[0mplot\u001b[0m\u001b[1;33m(\u001b[0m\u001b[0mtime\u001b[0m\u001b[1;33m,\u001b[0m \u001b[0mdf_2m\u001b[0m\u001b[1;33m[\u001b[0m\u001b[1;34m'fabm0d'\u001b[0m\u001b[1;33m]\u001b[0m\u001b[1;33m.\u001b[0m\u001b[0mvariables\u001b[0m\u001b[1;33m)\u001b[0m\u001b[1;33m\u001b[0m\u001b[0m\n\u001b[0m",
      "\u001b[1;31mAttributeError\u001b[0m: 'Figure' object has no attribute 'plot'"
     ]
    }
   ],
   "source": [
    "# Plot three model outputs, line plots\n",
    "# plot Tm, O2, TN and TP\n",
    "variables=['temp','O2','totN','totP']\n",
    "fig=plt.subplots(4,4,sharex=True)\n",
    "plt.subplots_adjust(hspace=0)\n",
    "for i in range(16):\n",
    "    fig[i].plot(time, df_2m['fabm0d'].variables)\n"
   ]
  },
  {
   "cell_type": "markdown",
   "metadata": {},
   "source": [
    "#possible code for surface output\n",
    "if f[-6:-5]=='2m':\n",
    "lvl=4\n",
    "print lvl\n",
    "PAR.append(gotm1d_nc.variables['rad'][i,lvl,0,0])\n",
    "elif f[-6:-5]=='5m':\n",
    "lvl=12\n",
    "print lvl\n",
    "PAR.append(gotm1d_nc.variables['rad'][i,lvl,0,0])\n",
    "elif f[-6:-5]=='10m':\n",
    "lvl=24\n",
    "print lvl\n",
    "PAR.append(gotm1d_nc.variables['rad'][i,lvl,0,0])\n",
    "elif f[-6:-5]=='20m':\n",
    "lvl=49\n",
    "print lvl\n",
    "PAR.append(gotm1d_nc.variables['rad'][i,lvl,0,0])"
   ]
  },
  {
   "cell_type": "code",
   "execution_count": null,
   "metadata": {
    "collapsed": true
   },
   "outputs": [],
   "source": []
  }
 ],
 "metadata": {
  "kernelspec": {
   "display_name": "Python 2",
   "language": "python",
   "name": "python2"
  },
  "language_info": {
   "codemirror_mode": {
    "name": "ipython",
    "version": 2
   },
   "file_extension": ".py",
   "mimetype": "text/x-python",
   "name": "python",
   "nbconvert_exporter": "python",
   "pygments_lexer": "ipython2",
   "version": "2.7.6"
  }
 },
 "nbformat": 4,
 "nbformat_minor": 0
}
