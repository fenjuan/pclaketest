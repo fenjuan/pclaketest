{
 "metadata": {
  "name": ""
 },
 "nbformat": 3,
 "nbformat_minor": 0,
 "worksheets": [
  {
   "cells": [
    {
     "cell_type": "code",
     "collapsed": false,
     "input": [
      "import numpy as np\n",
      "import matplotlib.pyplot as plt\n",
      "import pandas as pd\n",
      "from netCDF4 import Dataset\n",
      "from netCDF4 import num2date\n",
      "import datetime\n",
      "import os\n",
      "import sys\n",
      "import os.path"
     ],
     "language": "python",
     "metadata": {},
     "outputs": [],
     "prompt_number": 3
    },
    {
     "cell_type": "code",
     "collapsed": false,
     "input": [
      "# block for flexible input and output files\n",
      "#import argparse\n",
      "#parser = argparse.ArgumentParser(description='converts CSV to NETCDF')\n",
      "#parser.add_argument(\"inputfilename1\",help=\"Model NETCDF file name lake_fure_daily_surface.nc\")\n",
      "#parser.add_argument(\"inputfilename2\",help=\"Observations NETCDF file name Fure_surface.nc\")\n",
      "#parser.add_argument(\"outputfilename\",help=\"Output file name Performance_surf.pdf\")\n",
      "#parser.add_argument(\"comment\",help=\"comment printed to the frontpage\")\n",
      "#parser.add_argument(\"picture\",help=\"picture to frontpage\")\n"
     ],
     "language": "python",
     "metadata": {},
     "outputs": [],
     "prompt_number": 4
    },
    {
     "cell_type": "code",
     "collapsed": false,
     "input": [
      "# block for testing, with unflexible input outpuf files\n",
      "fabm_output='pclake-fabm0d-2m.nc'\n",
      "gotm_ouput='pclake-gotm-2m.nc'"
     ],
     "language": "python",
     "metadata": {},
     "outputs": [],
     "prompt_number": 18
    },
    {
     "cell_type": "code",
     "collapsed": false,
     "input": [
      "# setting the output folders\n",
      "Testcase_dir= os.path.normpath(os.getcwd() + os.sep + os.pardir)\n",
      "output_dir = os.path.normpath(Testcase_dir + \"/output\")\n",
      "Comparison_dir = os.path.normpath(Testcase_dir + \"/comparison\")\n",
      "fabm0d_file=os.path.join(output_dir, fabm_output)\n",
      "gotm1d_file=os.path.join(output_dir, gotm_ouput)"
     ],
     "language": "python",
     "metadata": {},
     "outputs": [],
     "prompt_number": 19
    },
    {
     "cell_type": "code",
     "collapsed": false,
     "input": [
      "%pwd"
     ],
     "language": "python",
     "metadata": {},
     "outputs": [
      {
       "metadata": {},
       "output_type": "pyout",
       "prompt_number": 20,
       "text": [
        "'/home/fenjuan/BIOS/Lakes/pclaketest/output'"
       ]
      }
     ],
     "prompt_number": 20
    },
    {
     "cell_type": "code",
     "collapsed": false,
     "input": [
      "# Read in NetCDF files from output folder\n",
      "fabm0d = Dataset(fabm0d_file, mode='r')\n",
      "gotm1d = Dataset(gotm1d_file, mode='r')"
     ],
     "language": "python",
     "metadata": {},
     "outputs": [],
     "prompt_number": 21
    },
    {
     "cell_type": "code",
     "collapsed": false,
     "input": [
      "gotm1d_file"
     ],
     "language": "python",
     "metadata": {},
     "outputs": [
      {
       "metadata": {},
       "output_type": "pyout",
       "prompt_number": 22,
       "text": [
        "'/home/fenjuan/BIOS/Lakes/pclaketest/output/pclake-gotm-2m.nc'"
       ]
      }
     ],
     "prompt_number": 22
    },
    {
     "cell_type": "code",
     "collapsed": false,
     "input": [],
     "language": "python",
     "metadata": {},
     "outputs": []
    }
   ],
   "metadata": {}
  }
 ]
}