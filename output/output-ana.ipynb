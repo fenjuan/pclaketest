{
 "cells": [
  {
   "cell_type": "code",
   "execution_count": 1,
   "metadata": {
    "collapsed": false
   },
   "outputs": [],
   "source": [
    "import numpy as np\n",
    "import matplotlib.pyplot as plt\n",
    "import pandas as pd\n",
    "from pandas import DataFrame\n",
    "from pandas import Series\n",
    "from netCDF4 import Dataset\n",
    "from netCDF4 import num2date\n",
    "import datetime\n",
    "import os\n",
    "import sys\n",
    "import os.path\n",
    "import glob"
   ]
  },
  {
   "cell_type": "code",
   "execution_count": 2,
   "metadata": {
    "collapsed": false
   },
   "outputs": [],
   "source": [
    "# Reading in model output files, from three different applications, fabm0d, gotm1d and gotmlake\n",
    "output_dir= os.path.normpath(os.getcwd() + os.sep + os.pardir+\"/output\")\n",
    "# fabm0d files\n",
    "fabm0d=[]\n",
    "for f in glob.glob(\"*fabm0d*.nc\"):\n",
    "    fabm0d.append(f)\n",
    "# gotm1d files\n",
    "gotm1d=[]\n",
    "for f in glob.glob(\"*gotm1d*.nc\"):\n",
    "    gotm1d.append(f)\n",
    "# gotm-lake files\n",
    "gotmlake=[]\n",
    "for f in glob.glob(\"*gotmlake*.nc\"):\n",
    "    gotmlake.append(f)"
   ]
  },
  {
   "cell_type": "code",
   "execution_count": 39,
   "metadata": {
    "collapsed": false,
    "scrolled": true
   },
   "outputs": [
    {
     "name": "stdout",
     "output_type": "stream",
     "text": [
      "pclake-gotm1d-5m.nc\n",
      "pclake-gotm1d-20m.nc\n",
      "pclake-gotm1d-2m.nc\n",
      "pclake-gotm1d-10m.nc\n"
     ]
    }
   ],
   "source": [
    "# Read in gotm1d data, store in nc Dataset form\n",
    "# Read in gotm1d_2m\n",
    "df_gotm1d={}\n",
    "for f in gotm1d:\n",
    "    path=os.path.join(output_dir, f)\n",
    "    gotm1d_nc=Dataset(path, mode='r')\n",
    "    time        = gotm1d_nc.variables['time']\n",
    "    units       = gotm1d_nc.variables['time'].units\n",
    "    valid_times = num2date(time[:], units=units).tolist()\n",
    "    i=0\n",
    "    time=valid_times[:]\n",
    "    temperature=[]\n",
    "    PAR=[]\n",
    "    Oxygen=[]\n",
    "    TP=[]\n",
    "    TN=[]\n",
    "    Phyto=[]\n",
    "    Zoo=[]\n",
    "    Fish=[] \n",
    "    Veg=[]\n",
    "    Ben=[]\n",
    "    for t in time:\n",
    "        temperature.append(np.mean(gotm1d_nc.variables['temp'][i,:,0,0]))\n",
    "        Oxygen.append(np.mean(gotm1d_nc.variables['abiotic_water_sO2W'][i,:,0,0]))\n",
    "        TP.append(np.mean(gotm1d_nc.variables['pclake_totP_calculator_result'][i,:,0,0]))\n",
    "        TN.append(np.mean(gotm1d_nc.variables['pclake_totN_calculator_result'][i,:,0,0]))\n",
    "        Phyto.append(np.mean(gotm1d_nc.variables['phytoplankton_water_aDPhytW'][i,:,0,0]))\n",
    "        Zoo.append(np.mean(gotm1d_nc.variables['foodweb_water_sDZoo'][i,:,0,0]))\n",
    "        Fish.append(np.mean(gotm1d_nc.variables['foodweb_water_sDFiAd'][i,:,0,0])+\n",
    "                    np.mean(gotm1d_nc.variables['foodweb_water_sDFiJv'][i,:,0,0]))\n",
    "        PAR.append(gotm1d_nc.variables['phytoplankton_water_partop'][i,-1,0,0])\n",
    "        Veg.append(gotm1d_nc.variables['macrophytes_sDVeg'][i,0,0])\n",
    "        Ben.append(gotm1d_nc.variables['foodweb_sediment_sDBent'][i,0,0])\n",
    "        i=i+1\n",
    "    temp=DataFrame(temperature,index=time,columns=['temp'],)\n",
    "    PAR=DataFrame(PAR,index=time,columns=['PAR'])\n",
    "    O2=DataFrame(Oxygen,index=time,columns=['O2'])\n",
    "    totP=DataFrame(TP,index=time,columns=['totP'])\n",
    "    totN=DataFrame(TN,index=time,columns=['totN'])\n",
    "    aDPhytW=DataFrame(Phyto,index=time,columns=['aDPhytW'])\n",
    "    sDZoo=DataFrame(Zoo,index=time,columns=['sDZoo'])\n",
    "    aDFish=DataFrame(Fish,index=time,columns=['aDFish'])\n",
    "    sDVeg=DataFrame(Veg,index=time,columns=['sDVeg'])\n",
    "    sDBent=DataFrame(Ben,index=time,columns=['sDBent'])\n",
    "    df_gotm1d[f]=pd.concat([temp,PAR,O2,totP,totN,aDPhytW,sDZoo,aDFish,sDVeg,sDBent],axis=1)\n",
    "    print f"
   ]
  },
  {
   "cell_type": "code",
   "execution_count": 41,
   "metadata": {
    "collapsed": false
   },
   "outputs": [
    {
     "name": "stdout",
     "output_type": "stream",
     "text": [
      "pclake-gotmlake-5m.nc\n",
      "pclake-gotmlake-20m.nc\n",
      "pclake-gotmlake-2m.nc\n",
      "pclake-gotmlake-10m.nc\n"
     ]
    }
   ],
   "source": [
    "# Read in gotm1d data, store in nc Dataset form\n",
    "# Read in gotm1d_2m\n",
    "df_gotmlake={}\n",
    "for f in gotmlake:\n",
    "    path=os.path.join(output_dir, f)\n",
    "    gotmlake_nc=Dataset(path, mode='r')\n",
    "    time        = gotm1d_nc.variables['time']\n",
    "    units       = gotm1d_nc.variables['time'].units\n",
    "    valid_times = num2date(time[:], units=units).tolist()\n",
    "    i=0\n",
    "    time=valid_times[:]\n",
    "    temperature=[]\n",
    "    PAR=[]\n",
    "    Oxygen=[]\n",
    "    TP=[]\n",
    "    TN=[]\n",
    "    Phyto=[]\n",
    "    Zoo=[]\n",
    "    Fish=[] \n",
    "    Veg=[]\n",
    "    Ben=[]\n",
    "    for t in time:\n",
    "        temperature.append(np.mean(gotmlake_nc.variables['temp'][i,:,0,0]))\n",
    "        Oxygen.append(np.mean(gotmlake_nc.variables['abiotic_water_sO2W'][i,:,0,0]))\n",
    "        TP.append(np.mean(gotmlake_nc.variables['pclake_totP_calculator_result'][i,:,0,0]))\n",
    "        TN.append(np.mean(gotmlake_nc.variables['pclake_totN_calculator_result'][i,:,0,0]))\n",
    "        Phyto.append(np.mean(gotmlake_nc.variables['phytoplankton_water_aDPhytW'][i,:,0,0]))\n",
    "        Zoo.append(np.mean(gotmlake_nc.variables['foodweb_water_sDZoo'][i,:,0,0]))\n",
    "        Fish.append(np.mean(gotmlake_nc.variables['foodweb_water_sDFiAd'][i,:,0,0])+\n",
    "                    np.mean(gotmlake_nc.variables['foodweb_water_sDFiJv'][i,:,0,0]))\n",
    "        PAR.append(gotmlake_nc.variables['phytoplankton_water_partop'][i,-1,0,0])\n",
    "        Veg.append(gotmlake_nc.variables['macrophytes_sDVeg'][i,0,0])\n",
    "        Ben.append(gotmlake_nc.variables['foodweb_sediment_sDBent'][i,0,0])\n",
    "        i=i+1\n",
    "    temp=DataFrame(temperature,index=time,columns=['temp'],)\n",
    "    PAR=DataFrame(PAR,index=time,columns=['PAR'])\n",
    "    O2=DataFrame(Oxygen,index=time,columns=['O2'])\n",
    "    totP=DataFrame(TP,index=time,columns=['totP'])\n",
    "    totN=DataFrame(TN,index=time,columns=['totN'])\n",
    "    aDPhytW=DataFrame(Phyto,index=time,columns=['aDPhytW'])\n",
    "    sDZoo=DataFrame(Zoo,index=time,columns=['sDZoo'])\n",
    "    aDFish=DataFrame(Fish,index=time,columns=['aDFish'])\n",
    "    sDVeg=DataFrame(Veg,index=time,columns=['sDVeg'])\n",
    "    sDBent=DataFrame(Ben,index=time,columns=['sDBent'])\n",
    "    df_gotmlake[f]=pd.concat([temp,PAR,O2,totP,totN,aDPhytW,sDZoo,aDFish,sDVeg,sDBent],axis=1)\n",
    "    print f"
   ]
  },
  {
   "cell_type": "code",
   "execution_count": 190,
   "metadata": {
    "collapsed": false
   },
   "outputs": [],
   "source": [
    "temp=DataFrame(temperature,index=time,columns=['temp'])\n",
    "NO3=DataFrame(Nitrogen,index=time,columns=['NO3'])\n",
    "var1=pd.concat([temp,NO3],axis=1)"
   ]
  },
  {
   "cell_type": "code",
   "execution_count": 49,
   "metadata": {
    "collapsed": true
   },
   "outputs": [],
   "source": [
    "# Treat time series in netCDF files\n",
    "time        = gotm1d_nc.variables['time']\n",
    "units       = gotm1d_nc.variables['time'].units\n",
    "valid_times = num2date(time[:], units=units).tolist()"
   ]
  },
  {
   "cell_type": "code",
   "execution_count": null,
   "metadata": {
    "collapsed": true
   },
   "outputs": [],
   "source": [
    "for f in gotmlake:\n",
    "    path=os.path.join(output_dir,f)\n",
    "    d_gotmlake[f]=Dataset(path, mode='r')"
   ]
  },
  {
   "cell_type": "code",
   "execution_count": 112,
   "metadata": {
    "collapsed": false
   },
   "outputs": [],
   "source": [
    "gotm1d_file=os.path.join(output_dir, f)\n",
    "gotm1d_nc=Dataset(gotm1d_file, mode='r')\n",
    "d_1d={}\n",
    "d_1d['time']=valid_times[:]\n",
    "d_1d['temp']       = gotm1d_nc.variables['temp'][:,:,0,0]\n",
    "i=0\n",
    "time=valid_times[:]\n",
    "temperature=[]\n",
    "Nitrogen=[]\n",
    "\n",
    "for t in time:\n",
    "    temperature.append(np.mean(gotm1d_nc.variables['temp'][i,:,0,0]))\n",
    "    Nitrogen.append(np.mean(gotm1d_nc.variables['abiotic_water_sNO3W'][i,:,0,0]))\n",
    "    i=i+1 "
   ]
  },
  {
   "cell_type": "code",
   "execution_count": 16,
   "metadata": {
    "collapsed": false
   },
   "outputs": [],
   "source": [
    "# Read in NetCDF files from output folder\n",
    "fabm0d = Dataset(fabm0d_file, mode='r')\n",
    "gotm1d = Dataset(gotm1d_file, mode='r')\n",
    "gotmlake=Dataset(gotmlake_file, mode='r')"
   ]
  },
  {
   "cell_type": "code",
   "execution_count": 13,
   "metadata": {
    "collapsed": false
   },
   "outputs": [],
   "source": [
    "# Treat time series in netCDF files\n",
    "time        = fabm0d.variables['time']\n",
    "units       = fabm0d.variables['time'].units\n",
    "valid_times = num2date(time[:], units=units).tolist()"
   ]
  },
  {
   "cell_type": "code",
   "execution_count": null,
   "metadata": {
    "collapsed": false
   },
   "outputs": [],
   "source": []
  },
  {
   "cell_type": "code",
   "execution_count": null,
   "metadata": {
    "collapsed": false
   },
   "outputs": [],
   "source": []
  },
  {
   "cell_type": "markdown",
   "metadata": {},
   "source": [
    "#possible code for surface output\n",
    "if f[-6:-5]=='2m':\n",
    "lvl=4\n",
    "print lvl\n",
    "PAR.append(gotm1d_nc.variables['rad'][i,lvl,0,0])\n",
    "elif f[-6:-5]=='5m':\n",
    "lvl=12\n",
    "print lvl\n",
    "PAR.append(gotm1d_nc.variables['rad'][i,lvl,0,0])\n",
    "elif f[-6:-5]=='10m':\n",
    "lvl=24\n",
    "print lvl\n",
    "PAR.append(gotm1d_nc.variables['rad'][i,lvl,0,0])\n",
    "elif f[-6:-5]=='20m':\n",
    "lvl=49\n",
    "print lvl\n",
    "PAR.append(gotm1d_nc.variables['rad'][i,lvl,0,0])"
   ]
  }
 ],
 "metadata": {
  "kernelspec": {
   "display_name": "Python 2",
   "language": "python",
   "name": "python2"
  },
  "language_info": {
   "codemirror_mode": {
    "name": "ipython",
    "version": 2
   },
   "file_extension": ".py",
   "mimetype": "text/x-python",
   "name": "python",
   "nbconvert_exporter": "python",
   "pygments_lexer": "ipython2",
   "version": "2.7.6"
  }
 },
 "nbformat": 4,
 "nbformat_minor": 0
}
