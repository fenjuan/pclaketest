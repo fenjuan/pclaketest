{
 "cells": [
  {
   "cell_type": "code",
   "execution_count": 1,
   "metadata": {
    "collapsed": true
   },
   "outputs": [],
   "source": [
    "import numpy as np\n",
    "import matplotlib.pyplot as plt\n",
    "import matplotlib.dates as mdates\n",
    "import pandas as pd\n",
    "from netCDF4 import num2date\n",
    "from netCDF4 import date2num\n",
    "import datetime\n",
    "import os\n",
    "import sys\n",
    "import os.path\n",
    "import glob\n",
    "import argparse"
   ]
  },
  {
   "cell_type": "code",
   "execution_count": 4,
   "metadata": {
    "collapsed": false
   },
   "outputs": [
    {
     "data": {
      "text/plain": [
       "_StoreAction(option_strings=[], dest='outputfilename2', nargs=None, const=None, default=None, type=None, choices=None, help='Output file name Performance_surf.pdf', metavar=None)"
      ]
     },
     "execution_count": 4,
     "metadata": {},
     "output_type": "execute_result"
    }
   ],
   "source": [
    "parser = argparse.ArgumentParser(description='converts CSV to NETCDF')\n",
    "parser.add_argument(\"inputfilename\",help=\"Model NETCDF file name lake_fure_daily_surface.nc\")\n",
    "parser.add_argument(\"outputfilename1\",help=\"Observations NETCDF file name Fure_surface.nc\")\n",
    "parser.add_argument(\"outputfilename2\",help=\"Output file name Performance_surf.pdf\")\n",
    "\n",
    "args        = parser.parse_args()\n",
    "In_file    = args.inputfilename\n",
    "Out_file1    = args.outputfilename1\n",
    "Out_file2     = args.outputfilename2"
   ]
  },
  {
   "cell_type": "code",
   "execution_count": null,
   "metadata": {
    "collapsed": true
   },
   "outputs": [],
   "source": []
  }
 ],
 "metadata": {
  "kernelspec": {
   "display_name": "Python 3",
   "language": "python",
   "name": "python3"
  },
  "language_info": {
   "codemirror_mode": {
    "name": "ipython",
    "version": 3
   },
   "file_extension": ".py",
   "mimetype": "text/x-python",
   "name": "python",
   "nbconvert_exporter": "python",
   "pygments_lexer": "ipython3",
   "version": "3.4.3"
  }
 },
 "nbformat": 4,
 "nbformat_minor": 0
}
